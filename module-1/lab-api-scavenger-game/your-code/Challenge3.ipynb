{
 "cells": [
  {
   "cell_type": "markdown",
   "metadata": {},
   "source": [
    "# Challenge 3: Hidden Cold Joke"
   ]
  },
  {
   "cell_type": "code",
   "execution_count": 2,
   "metadata": {},
   "outputs": [
    {
     "data": {
      "text/plain": [
       "True"
      ]
     },
     "execution_count": 2,
     "metadata": {},
     "output_type": "execute_result"
    }
   ],
   "source": [
    "import os \n",
    "import requests\n",
    "from dotenv import load_dotenv\n",
    "load_dotenv()"
   ]
  },
  {
   "cell_type": "markdown",
   "metadata": {},
   "source": [
    "Using Python, call Github API to find out the cold joke contained in the 24 secret files in the following repo:"
   ]
  },
  {
   "cell_type": "markdown",
   "metadata": {},
   "source": [
    "https://github.com/ironhack-datalabs/scavenger"
   ]
  },
  {
   "cell_type": "markdown",
   "metadata": {},
   "source": [
    "The filenames of the secret files contain .scavengerhunt and they are scattered in different directories of this repo. The secret files are named from .0001.scavengerhunt to .0024.scavengerhunt. They are scattered randomly throughout this repo. You need to search for these files by calling the Github API, not searching the local files on your computer."
   ]
  },
  {
   "cell_type": "markdown",
   "metadata": {},
   "source": [
    "**Notes:**\n",
    "\n",
    "\n",
    "* Github API documentation can be found here.\n",
    "-\n",
    "\n",
    "* You will need to study the Github API documentation to decide which API endpoint to call and what parameters to use in order to obtain the information you need. Unless you are already super familiar with Github API or super lucky, you probably will do some trials and errors. Therefore, be prepared to go back and forth in studying the API documentation, testing, and revising until you obtain what you need.\n",
    "-\n",
    "\n",
    "* After receiving the JSON data object, you need to inspect its structure and decide how to parse the data.\n",
    "-\n",
    "\n",
    "* When you test your requests with Github API, sometimes you may be blocked by Github with an error message that reads:\n",
    "\n",
    "\n",
    "    You have triggered an abuse detection mechanism and have been temporarily blocked       from content creation. Please retry your request again later.\n",
    "\n",
    "    Don't worry. Check the parameters in your request and wait for a minute or two           before you make additional requests.\n",
    "    \n",
    "-----------------\n",
    "\n",
    "\n",
    "**After you find out the secrete files:** \n",
    "\n",
    "\n",
    "\n",
    "Sort the filenames ascendingly.\n",
    "\n",
    "Read the content of each secret files into an array of strings.\n",
    "\n",
    "Concatenate the strings in the array separating each two with a whitespace.\n",
    "\n",
    "Print out the joke."
   ]
  },
  {
   "cell_type": "code",
   "execution_count": 3,
   "metadata": {},
   "outputs": [],
   "source": [
    "def getFromGithub(endpoint, queryParams={}):\n",
    "    url = f\"https://api.github.com{endpoint}\"\n",
    "\n",
    "    apiKey = os.getenv(\"APIKEY\")\n",
    "    if not apiKey:\n",
    "        raise ValueError(\"Please setup the APIKEY env variable\")\n",
    "    headers = {\n",
    "        \"Authorization\": f\"token {apiKey}\"\n",
    "    }\n",
    "    \n",
    "    res = requests.get(url, headers=headers, params=queryParams)\n",
    "    print(res.url)\n",
    "    return res.json()"
   ]
  },
  {
   "cell_type": "code",
   "execution_count": 6,
   "metadata": {},
   "outputs": [
    {
     "name": "stdout",
     "output_type": "stream",
     "text": [
      "https://api.github.com/search/code?q=repo%3Aironhack-datalabs%2Fscavenger+filename%3A.scavengerhunt\n"
     ]
    }
   ],
   "source": [
    "data = getFromGithub(\"/search/code\",{'q':'repo:ironhack-datalabs/scavenger filename:.scavengerhunt'})"
   ]
  },
  {
   "cell_type": "code",
   "execution_count": null,
   "metadata": {},
   "outputs": [],
   "source": [
    "data[\"items\"][0]"
   ]
  },
  {
   "cell_type": "code",
   "execution_count": 11,
   "metadata": {},
   "outputs": [
    {
     "data": {
      "text/plain": [
       "[['15024/.0006.scavengerhunt', '.0006.scavengerhunt'],\n",
       " ['49418/.0014.scavengerhunt', '.0014.scavengerhunt'],\n",
       " ['15534/.0008.scavengerhunt', '.0008.scavengerhunt'],\n",
       " ['70985/.0017.scavengerhunt', '.0017.scavengerhunt'],\n",
       " ['15534/.0012.scavengerhunt', '.0012.scavengerhunt'],\n",
       " ['17020/.0007.scavengerhunt', '.0007.scavengerhunt'],\n",
       " ['91701/.0015.scavengerhunt', '.0015.scavengerhunt'],\n",
       " ['30351/.0021.scavengerhunt', '.0021.scavengerhunt'],\n",
       " ['40303/.0022.scavengerhunt', '.0022.scavengerhunt'],\n",
       " ['44639/.0005.scavengerhunt', '.0005.scavengerhunt'],\n",
       " ['89338/.0013.scavengerhunt', '.0013.scavengerhunt'],\n",
       " ['45525/.0018.scavengerhunt', '.0018.scavengerhunt'],\n",
       " ['47222/.0016.scavengerhunt', '.0016.scavengerhunt'],\n",
       " ['97881/.0009.scavengerhunt', '.0009.scavengerhunt'],\n",
       " ['47222/.0024.scavengerhunt', '.0024.scavengerhunt'],\n",
       " ['47830/.0010.scavengerhunt', '.0010.scavengerhunt'],\n",
       " ['50896/.0011.scavengerhunt', '.0011.scavengerhunt'],\n",
       " ['55417/.0023.scavengerhunt', '.0023.scavengerhunt'],\n",
       " ['55685/.0020.scavengerhunt', '.0020.scavengerhunt'],\n",
       " ['60224/.0003.scavengerhunt', '.0003.scavengerhunt'],\n",
       " ['68848/.0004.scavengerhunt', '.0004.scavengerhunt'],\n",
       " ['70751/.0019.scavengerhunt', '.0019.scavengerhunt'],\n",
       " ['88596/.0002.scavengerhunt', '.0002.scavengerhunt'],\n",
       " ['98750/.0001.scavengerhunt', '.0001.scavengerhunt']]"
      ]
     },
     "execution_count": 11,
     "metadata": {},
     "output_type": "execute_result"
    }
   ],
   "source": [
    "urls = [[e[\"path\"], e[\"name\"]] for e in data[\"items\"]]\n",
    "urls"
   ]
  },
  {
   "cell_type": "code",
   "execution_count": 28,
   "metadata": {},
   "outputs": [
    {
     "data": {
      "text/plain": [
       "[['98750/.0001.scavengerhunt', '.0001.scavengerhunt'],\n",
       " ['88596/.0002.scavengerhunt', '.0002.scavengerhunt'],\n",
       " ['60224/.0003.scavengerhunt', '.0003.scavengerhunt'],\n",
       " ['68848/.0004.scavengerhunt', '.0004.scavengerhunt'],\n",
       " ['44639/.0005.scavengerhunt', '.0005.scavengerhunt'],\n",
       " ['15024/.0006.scavengerhunt', '.0006.scavengerhunt'],\n",
       " ['17020/.0007.scavengerhunt', '.0007.scavengerhunt'],\n",
       " ['15534/.0008.scavengerhunt', '.0008.scavengerhunt'],\n",
       " ['97881/.0009.scavengerhunt', '.0009.scavengerhunt'],\n",
       " ['47830/.0010.scavengerhunt', '.0010.scavengerhunt'],\n",
       " ['50896/.0011.scavengerhunt', '.0011.scavengerhunt'],\n",
       " ['15534/.0012.scavengerhunt', '.0012.scavengerhunt'],\n",
       " ['89338/.0013.scavengerhunt', '.0013.scavengerhunt'],\n",
       " ['49418/.0014.scavengerhunt', '.0014.scavengerhunt'],\n",
       " ['91701/.0015.scavengerhunt', '.0015.scavengerhunt'],\n",
       " ['47222/.0016.scavengerhunt', '.0016.scavengerhunt'],\n",
       " ['70985/.0017.scavengerhunt', '.0017.scavengerhunt'],\n",
       " ['45525/.0018.scavengerhunt', '.0018.scavengerhunt'],\n",
       " ['70751/.0019.scavengerhunt', '.0019.scavengerhunt'],\n",
       " ['55685/.0020.scavengerhunt', '.0020.scavengerhunt'],\n",
       " ['30351/.0021.scavengerhunt', '.0021.scavengerhunt'],\n",
       " ['40303/.0022.scavengerhunt', '.0022.scavengerhunt'],\n",
       " ['55417/.0023.scavengerhunt', '.0023.scavengerhunt'],\n",
       " ['47222/.0024.scavengerhunt', '.0024.scavengerhunt']]"
      ]
     },
     "execution_count": 28,
     "metadata": {},
     "output_type": "execute_result"
    }
   ],
   "source": [
    "urls = sorted(urls, key=lambda e:e[1])\n",
    "urls"
   ]
  },
  {
   "cell_type": "code",
   "execution_count": 29,
   "metadata": {},
   "outputs": [],
   "source": [
    "raw_urls = [f\"https://raw.githubusercontent.com/ironhack-datalabs/scavenger/master/{url[0]}\" for url in urls]"
   ]
  },
  {
   "cell_type": "code",
   "execution_count": 30,
   "metadata": {},
   "outputs": [
    {
     "data": {
      "text/plain": [
       "['https://raw.githubusercontent.com/ironhack-datalabs/scavenger/master/98750/.0001.scavengerhunt',\n",
       " 'https://raw.githubusercontent.com/ironhack-datalabs/scavenger/master/88596/.0002.scavengerhunt',\n",
       " 'https://raw.githubusercontent.com/ironhack-datalabs/scavenger/master/60224/.0003.scavengerhunt',\n",
       " 'https://raw.githubusercontent.com/ironhack-datalabs/scavenger/master/68848/.0004.scavengerhunt',\n",
       " 'https://raw.githubusercontent.com/ironhack-datalabs/scavenger/master/44639/.0005.scavengerhunt',\n",
       " 'https://raw.githubusercontent.com/ironhack-datalabs/scavenger/master/15024/.0006.scavengerhunt',\n",
       " 'https://raw.githubusercontent.com/ironhack-datalabs/scavenger/master/17020/.0007.scavengerhunt',\n",
       " 'https://raw.githubusercontent.com/ironhack-datalabs/scavenger/master/15534/.0008.scavengerhunt',\n",
       " 'https://raw.githubusercontent.com/ironhack-datalabs/scavenger/master/97881/.0009.scavengerhunt',\n",
       " 'https://raw.githubusercontent.com/ironhack-datalabs/scavenger/master/47830/.0010.scavengerhunt',\n",
       " 'https://raw.githubusercontent.com/ironhack-datalabs/scavenger/master/50896/.0011.scavengerhunt',\n",
       " 'https://raw.githubusercontent.com/ironhack-datalabs/scavenger/master/15534/.0012.scavengerhunt',\n",
       " 'https://raw.githubusercontent.com/ironhack-datalabs/scavenger/master/89338/.0013.scavengerhunt',\n",
       " 'https://raw.githubusercontent.com/ironhack-datalabs/scavenger/master/49418/.0014.scavengerhunt',\n",
       " 'https://raw.githubusercontent.com/ironhack-datalabs/scavenger/master/91701/.0015.scavengerhunt',\n",
       " 'https://raw.githubusercontent.com/ironhack-datalabs/scavenger/master/47222/.0016.scavengerhunt',\n",
       " 'https://raw.githubusercontent.com/ironhack-datalabs/scavenger/master/70985/.0017.scavengerhunt',\n",
       " 'https://raw.githubusercontent.com/ironhack-datalabs/scavenger/master/45525/.0018.scavengerhunt',\n",
       " 'https://raw.githubusercontent.com/ironhack-datalabs/scavenger/master/70751/.0019.scavengerhunt',\n",
       " 'https://raw.githubusercontent.com/ironhack-datalabs/scavenger/master/55685/.0020.scavengerhunt',\n",
       " 'https://raw.githubusercontent.com/ironhack-datalabs/scavenger/master/30351/.0021.scavengerhunt',\n",
       " 'https://raw.githubusercontent.com/ironhack-datalabs/scavenger/master/40303/.0022.scavengerhunt',\n",
       " 'https://raw.githubusercontent.com/ironhack-datalabs/scavenger/master/55417/.0023.scavengerhunt',\n",
       " 'https://raw.githubusercontent.com/ironhack-datalabs/scavenger/master/47222/.0024.scavengerhunt']"
      ]
     },
     "execution_count": 30,
     "metadata": {},
     "output_type": "execute_result"
    }
   ],
   "source": [
    "raw_urls"
   ]
  },
  {
   "cell_type": "code",
   "execution_count": 33,
   "metadata": {},
   "outputs": [],
   "source": [
    "joke = [requests.get(url).text.rstrip() for url in raw_urls]"
   ]
  },
  {
   "cell_type": "code",
   "execution_count": 34,
   "metadata": {},
   "outputs": [
    {
     "data": {
      "text/plain": [
       "'In data science, 80 percent of time spent is preparing data, 20 percent of time is spent complaining about the need to prepare data.'"
      ]
     },
     "execution_count": 34,
     "metadata": {},
     "output_type": "execute_result"
    }
   ],
   "source": [
    "\" \".join(joke)"
   ]
  },
  {
   "cell_type": "code",
   "execution_count": null,
   "metadata": {},
   "outputs": [],
   "source": []
  },
  {
   "cell_type": "code",
   "execution_count": null,
   "metadata": {},
   "outputs": [],
   "source": []
  },
  {
   "cell_type": "markdown",
   "metadata": {},
   "source": [
    "# BONUS"
   ]
  },
  {
   "cell_type": "code",
   "execution_count": null,
   "metadata": {},
   "outputs": [],
   "source": [
    "import json\n",
    "def postToGithub(endpoint, queryParams={}):\n",
    "    url = f\"https://api.github.com{endpoint}\"\n",
    "\n",
    "    apiKey = os.getenv(\"APIKEY\")\n",
    "    if not apiKey:\n",
    "        raise ValueError(\"Please setup the APIKEY env variable\")\n",
    "    headers = {\n",
    "        \"Authorization\": f\"token {apiKey}\"\n",
    "    }\n",
    "    \n",
    "    fn = requests.post if method == \"POST\" else requests.put\n",
    "    \n",
    "    res = requests.get(url, json.dumps(body), headers=headers, params=queryParams)\n",
    "    print(res.url)\n",
    "    return res.json()"
   ]
  },
  {
   "cell_type": "code",
   "execution_count": null,
   "metadata": {},
   "outputs": [],
   "source": [
    "repoData = {\"name\": \"demo-scavengers\", \"description\":\"ejemplo creacion repo con api\"}\n",
    "data = toGithub(\"user/repos\", repoData)"
   ]
  },
  {
   "cell_type": "code",
   "execution_count": null,
   "metadata": {},
   "outputs": [],
   "source": [
    "def putToGithub(endpoint, queryParams={}):\n",
    "    url = f\"https://api.github.com{endpoint}\"\n",
    "\n",
    "    apiKey = os.getenv(\"APIKEY\")\n",
    "    if not apiKey:\n",
    "        raise ValueError(\"Please setup the APIKEY env variable\")\n",
    "    headers = {\n",
    "        \"Authorization\": f\"token {apiKey}\"\n",
    "    }\n",
    "    \n",
    "    res = requests.get(url, json.dumps(body), headers=headers, params=queryParams)\n",
    "    print(res.url)\n",
    "    return res.json()"
   ]
  },
  {
   "cell_type": "code",
   "execution_count": null,
   "metadata": {},
   "outputs": [],
   "source": [
    "import base64\n",
    "\n",
    "{\n",
    "  \"message\": \"my first commit\",\n",
    "  \"committer\": {\n",
    "    \"name\": \"jaimesanz\",\n",
    "    \"email\": \"none\"\n",
    "  },\n",
    "  \"content\": base64.urlsafe_b64encode(\"b' Hola esto es un repo de prueba\").decode(\"utf-8\")\n",
    "}\n",
    "fileData"
   ]
  },
  {
   "cell_type": "code",
   "execution_count": null,
   "metadata": {},
   "outputs": [],
   "source": []
  }
 ],
 "metadata": {
  "kernelspec": {
   "display_name": "Python 3",
   "language": "python",
   "name": "python3"
  },
  "language_info": {
   "codemirror_mode": {
    "name": "ipython",
    "version": 3
   },
   "file_extension": ".py",
   "mimetype": "text/x-python",
   "name": "python",
   "nbconvert_exporter": "python",
   "pygments_lexer": "ipython3",
   "version": "3.7.7"
  }
 },
 "nbformat": 4,
 "nbformat_minor": 4
}
