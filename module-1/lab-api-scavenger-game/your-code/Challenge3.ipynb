{
 "cells": [
  {
   "cell_type": "markdown",
   "metadata": {},
   "source": [
    "# Challenge 3: Hidden Cold Joke"
   ]
  },
  {
   "cell_type": "code",
   "execution_count": 4,
   "metadata": {},
   "outputs": [
    {
     "data": {
      "text/plain": [
       "True"
      ]
     },
     "execution_count": 4,
     "metadata": {},
     "output_type": "execute_result"
    }
   ],
   "source": [
    "import os \n",
    "import requests\n",
    "from dotenv import load_dotenv\n",
    "load_dotenv()"
   ]
  },
  {
   "cell_type": "markdown",
   "metadata": {},
   "source": [
    "Using Python, call Github API to find out the cold joke contained in the 24 secret files in the following repo:"
   ]
  },
  {
   "cell_type": "markdown",
   "metadata": {},
   "source": [
    "https://github.com/ironhack-datalabs/scavenger"
   ]
  },
  {
   "cell_type": "markdown",
   "metadata": {},
   "source": [
    "The filenames of the secret files contain .scavengerhunt and they are scattered in different directories of this repo. The secret files are named from .0001.scavengerhunt to .0024.scavengerhunt. They are scattered randomly throughout this repo. You need to search for these files by calling the Github API, not searching the local files on your computer."
   ]
  },
  {
   "cell_type": "markdown",
   "metadata": {},
   "source": [
    "**Notes:**\n",
    "\n",
    "\n",
    "* Github API documentation can be found here.\n",
    "-\n",
    "\n",
    "* You will need to study the Github API documentation to decide which API endpoint to call and what parameters to use in order to obtain the information you need. Unless you are already super familiar with Github API or super lucky, you probably will do some trials and errors. Therefore, be prepared to go back and forth in studying the API documentation, testing, and revising until you obtain what you need.\n",
    "-\n",
    "\n",
    "* After receiving the JSON data object, you need to inspect its structure and decide how to parse the data.\n",
    "-\n",
    "\n",
    "* When you test your requests with Github API, sometimes you may be blocked by Github with an error message that reads:\n",
    "\n",
    "\n",
    "    You have triggered an abuse detection mechanism and have been temporarily blocked       from content creation. Please retry your request again later.\n",
    "\n",
    "    Don't worry. Check the parameters in your request and wait for a minute or two           before you make additional requests.\n",
    "    \n",
    "-----------------\n",
    "\n",
    "\n",
    "**After you find out the secrete files:** \n",
    "\n",
    "\n",
    "\n",
    "Sort the filenames ascendingly.\n",
    "\n",
    "Read the content of each secret files into an array of strings.\n",
    "\n",
    "Concatenate the strings in the array separating each two with a whitespace.\n",
    "\n",
    "Print out the joke."
   ]
  },
  {
   "cell_type": "code",
   "execution_count": 5,
   "metadata": {},
   "outputs": [],
   "source": [
    "def getFromGithub(endpoint, queryParams={}):\n",
    "    url = f\"https://api.github.com{endpoint}\"\n",
    "\n",
    "    apiKey = os.getenv(\"APIKEY\")\n",
    "    if not apiKey:\n",
    "        raise ValueError(\"Please setup the APIKEY env variable\")\n",
    "    headers = {\n",
    "        \"Authorization\": f\"token {apiKey}\"\n",
    "    }\n",
    "    \n",
    "    res = requests.get(url, headers=headers, params=queryParams)\n",
    "    print(res.url)\n",
    "    return res.json()"
   ]
  },
  {
   "cell_type": "code",
   "execution_count": 6,
   "metadata": {},
   "outputs": [
    {
     "name": "stdout",
     "output_type": "stream",
     "text": [
      "https://api.github.com/repos/ironhack-datalabs/scavenger/contents/https://github.com/ironhack-datalabs/scavenger\n"
     ]
    },
    {
     "data": {
      "text/plain": [
       "{'message': 'Not Found',\n",
       " 'documentation_url': 'https://developer.github.com/v3/repos/contents/#get-contents'}"
      ]
     },
     "execution_count": 6,
     "metadata": {},
     "output_type": "execute_result"
    }
   ],
   "source": [
    "repo_contents = getFromGithub (\"/repos/ironhack-datalabs/scavenger/contents/https://github.com/ironhack-datalabs/scavenger\")\n",
    "repo_contents"
   ]
  },
  {
   "cell_type": "code",
   "execution_count": null,
   "metadata": {},
   "outputs": [],
   "source": [
    "repo_contents = getFromGithub (\"https://api.github.com/search/repo:ironhack-datalabs/scavenger+filename:.0001.scavengerhunt\")\n",
    "repo_contents"
   ]
  },
  {
   "cell_type": "code",
   "execution_count": null,
   "metadata": {},
   "outputs": [],
   "source": []
  },
  {
   "cell_type": "code",
   "execution_count": null,
   "metadata": {},
   "outputs": [],
   "source": []
  }
 ],
 "metadata": {
  "kernelspec": {
   "display_name": "Python 3",
   "language": "python",
   "name": "python3"
  },
  "language_info": {
   "codemirror_mode": {
    "name": "ipython",
    "version": 3
   },
   "file_extension": ".py",
   "mimetype": "text/x-python",
   "name": "python",
   "nbconvert_exporter": "python",
   "pygments_lexer": "ipython3",
   "version": "3.7.7"
  }
 },
 "nbformat": 4,
 "nbformat_minor": 4
}
